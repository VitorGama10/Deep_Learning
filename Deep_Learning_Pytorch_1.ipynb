{
  "nbformat": 4,
  "nbformat_minor": 0,
  "metadata": {
    "colab": {
      "provenance": [],
      "collapsed_sections": [],
      "authorship_tag": "ABX9TyNLZAREg03kKonVTqjjIUw8",
      "include_colab_link": true
    },
    "kernelspec": {
      "name": "python3",
      "display_name": "Python 3"
    },
    "language_info": {
      "name": "python"
    },
    "accelerator": "GPU",
    "gpuClass": "standard"
  },
  "cells": [
    {
      "cell_type": "markdown",
      "metadata": {
        "id": "view-in-github",
        "colab_type": "text"
      },
      "source": [
        "<a href=\"https://colab.research.google.com/github/VitorGama10/Deep_Learning/blob/main/Deep_Learning_Pytorch_1.ipynb\" target=\"_parent\"><img src=\"https://colab.research.google.com/assets/colab-badge.svg\" alt=\"Open In Colab\"/></a>"
      ]
    },
    {
      "cell_type": "markdown",
      "source": [
        "# Tipos De Tensores\n",
        "Voce pode criar tensores do Pytorch dd inumeras formas, vamos converte listas comuns do python em tensores do pytorch"
      ],
      "metadata": {
        "id": "Ho-k4ULsWU8J"
      }
    },
    {
      "cell_type": "code",
      "execution_count": 29,
      "metadata": {
        "colab": {
          "base_uri": "https://localhost:8080/"
        },
        "id": "MfnsdYliWJp0",
        "outputId": "442dc3ca-8ef7-41ce-a320-a8f8664a936f"
      },
      "outputs": [
        {
          "output_type": "stream",
          "name": "stdout",
          "text": [
            "torch.float32\n",
            "tensor([[1., 2., 3.],\n",
            "        [4., 5., 6.]])\n",
            "torch.float32\n",
            "tensor([[1., 2., 3.],\n",
            "        [4., 5., 6.]])\n",
            "torch.float64\n",
            "tensor([[1., 2., 3.],\n",
            "        [4., 5., 6.]], dtype=torch.float64)\n",
            "torch.int64\n",
            "tensor([[1, 2, 3],\n",
            "        [4, 5, 6]])\n"
          ]
        }
      ],
      "source": [
        "import torch\n",
        "\n",
        "lista = [[1,2,3], [4,5,6]]\n",
        "\n",
        "tns = torch.Tensor(lista) # vai converte para o tipo padrao do pytorch\n",
        "print(tns.dtype)\n",
        "print(tns)\n",
        "\n",
        "\n",
        "tns = torch.FloatTensor(lista) # o float q é o padrao q usamos\n",
        "print(tns.dtype)\n",
        "print(tns)\n",
        "\n",
        "\n",
        "tns = torch.DoubleTensor(lista) # Um ponto flutuante com maior precisão\n",
        "print(tns.dtype)\n",
        "print(tns)\n",
        "\n",
        "\n",
        "tns = torch.LongTensor(lista) # quando é necessario usar indeiros, e tem uma precisao maior pra quando querer operar com outras coisas\n",
        "print(tns.dtype)\n",
        "print(tns)"
      ]
    },
    {
      "cell_type": "markdown",
      "source": [
        "# Outras formas de instanciar tensores\n",
        "\n",
        "A partir de arrays Numpy "
      ],
      "metadata": {
        "id": "KmQfs-J_Y04V"
      }
    },
    {
      "cell_type": "code",
      "source": [
        "import numpy as np\n",
        "\n",
        "arr = np.random.rand(3,4) # array aleatorio \n",
        "tns = torch.from_numpy(arr)  # convertendo para tensor \n",
        "print(arr)\n",
        "print(tns)\n",
        "\n",
        "# criei um array aleatorio e converti para um tensor"
      ],
      "metadata": {
        "colab": {
          "base_uri": "https://localhost:8080/"
        },
        "id": "fu6lvsK8Yyqf",
        "outputId": "b07a5b8b-0467-43dd-ebce-f0991999c0f8"
      },
      "execution_count": 30,
      "outputs": [
        {
          "output_type": "stream",
          "name": "stdout",
          "text": [
            "[[0.25764168 0.43788888 0.04090769 0.3709509 ]\n",
            " [0.21096431 0.72567913 0.27821294 0.09761351]\n",
            " [0.21966551 0.46839993 0.2629199  0.59998642]]\n",
            "tensor([[0.2576, 0.4379, 0.0409, 0.3710],\n",
            "        [0.2110, 0.7257, 0.2782, 0.0976],\n",
            "        [0.2197, 0.4684, 0.2629, 0.6000]], dtype=torch.float64)\n"
          ]
        }
      ]
    },
    {
      "cell_type": "markdown",
      "source": [
        "# Tensores inicializados \n",
        "Essas funçoes recebem como parametro o tamanho de cada dimensao do tensor.Aqui vamos conhecer as seguintes funcoes\n"
      ],
      "metadata": {
        "id": "F7gcuMwraHOJ"
      }
    },
    {
      "cell_type": "code",
      "source": [
        "tns1 = torch.ones(2,3) # com numeros 1\n",
        "tns0 = torch.zeros(4,5) # com numeros zeros \n",
        "tnsr = torch.randn(3,3) # Numeros aleatorios\n",
        "\n",
        "print(tns1)\n",
        "print(tns0)\n",
        "print(tnsr)"
      ],
      "metadata": {
        "colab": {
          "base_uri": "https://localhost:8080/"
        },
        "id": "1OF2r6DPaGgF",
        "outputId": "b44979c1-8ecb-4219-d624-eec84b0b84c4"
      },
      "execution_count": 31,
      "outputs": [
        {
          "output_type": "stream",
          "name": "stdout",
          "text": [
            "tensor([[1., 1., 1.],\n",
            "        [1., 1., 1.]])\n",
            "tensor([[0., 0., 0., 0., 0.],\n",
            "        [0., 0., 0., 0., 0.],\n",
            "        [0., 0., 0., 0., 0.],\n",
            "        [0., 0., 0., 0., 0.]])\n",
            "tensor([[-0.2865,  0.5742,  0.4458],\n",
            "        [-0.9914, -0.8793, -0.3130],\n",
            "        [-0.2787,  1.3274,  1.5508]])\n"
          ]
        }
      ]
    },
    {
      "cell_type": "markdown",
      "source": [
        "# Tensor para array numpy "
      ],
      "metadata": {
        "id": "k1GGBio5bLxE"
      }
    },
    {
      "cell_type": "code",
      "source": [
        "arr = tnsr.data.numpy()\n",
        "print(arr)"
      ],
      "metadata": {
        "colab": {
          "base_uri": "https://localhost:8080/"
        },
        "id": "W-Lh9qKSZ5E1",
        "outputId": "a8941e58-e6b6-4570-a2d6-5ba6cbe93c58"
      },
      "execution_count": 32,
      "outputs": [
        {
          "output_type": "stream",
          "name": "stdout",
          "text": [
            "[[-0.2864662   0.57416534  0.44581252]\n",
            " [-0.991421   -0.8792935  -0.3129629 ]\n",
            " [-0.2786739   1.3273712   1.5507952 ]]\n"
          ]
        }
      ]
    },
    {
      "cell_type": "markdown",
      "source": [
        "# Indexação\n",
        "\n",
        "De posse dessa informação, a indexacao é feita de forma similar a arrays numpy, atraves de sintaxe de colchetes '[ ]'"
      ],
      "metadata": {
        "id": "UQ6qyIsSbtvG"
      }
    },
    {
      "cell_type": "code",
      "source": [
        "print(tnsr)\n",
        "tnsr[0, 2] = - 10\n",
        "\n",
        "print('')\n",
        "print(tnsr)\n",
        "\n",
        "print('') # da um espaco nos tensores\n",
        "print(tnsr[0:2])\n",
        "\n",
        "print('')\n",
        "print(tnsr[:, 2]) # todos as linhas da coluna 2 (pegando uma fatia do meu tensor)"
      ],
      "metadata": {
        "colab": {
          "base_uri": "https://localhost:8080/"
        },
        "id": "MzFEO4VfbhNV",
        "outputId": "aa12d125-1584-40b5-8311-d67cba84b9c0"
      },
      "execution_count": 33,
      "outputs": [
        {
          "output_type": "stream",
          "name": "stdout",
          "text": [
            "tensor([[-0.2865,  0.5742,  0.4458],\n",
            "        [-0.9914, -0.8793, -0.3130],\n",
            "        [-0.2787,  1.3274,  1.5508]])\n",
            "\n",
            "tensor([[ -0.2865,   0.5742, -10.0000],\n",
            "        [ -0.9914,  -0.8793,  -0.3130],\n",
            "        [ -0.2787,   1.3274,   1.5508]])\n",
            "\n",
            "tensor([[ -0.2865,   0.5742, -10.0000],\n",
            "        [ -0.9914,  -0.8793,  -0.3130]])\n",
            "\n",
            "tensor([-10.0000,  -0.3130,   1.5508])\n"
          ]
        }
      ]
    },
    {
      "cell_type": "markdown",
      "source": [
        "# Operações com tensores\n",
        "A função .item() utilizada anteriormente extrai o número de um tensor que possui um único valor, permitindo realizar as operações numéricas do Python. Caso o item não seja extraído, operações que envolvam tensores vão retornar novos tensores.\n",
        "\n",
        "Vale ressaltar também que operações entre tensores são realizadas ponto a ponto, operando cada elemento (i, j) do tensor t1, com o elemento (i, j) do tensor t2."
      ],
      "metadata": {
        "id": "6uaWGORidhw_"
      }
    },
    {
      "cell_type": "code",
      "source": [
        "tns = tnsr[0:2, :]\n",
        "print(tns)\n",
        "print(tns1)\n",
        "\n",
        "print(torch.mm(tns, tns1.T))"
      ],
      "metadata": {
        "colab": {
          "base_uri": "https://localhost:8080/"
        },
        "id": "ZFNS93NlciNr",
        "outputId": "9a90bdb7-6703-4ce6-c2d9-bc41e9f7cd89"
      },
      "execution_count": 34,
      "outputs": [
        {
          "output_type": "stream",
          "name": "stdout",
          "text": [
            "tensor([[ -0.2865,   0.5742, -10.0000],\n",
            "        [ -0.9914,  -0.8793,  -0.3130]])\n",
            "tensor([[1., 1., 1.],\n",
            "        [1., 1., 1.]])\n",
            "tensor([[-9.7123, -9.7123],\n",
            "        [-2.1837, -2.1837]])\n"
          ]
        }
      ]
    },
    {
      "cell_type": "markdown",
      "source": [
        "# Função .size() e .view()\n",
        "Uma operações importantíssima na manipulação de tensores para Deep Learning é a reorganização das suas dimensões. Dessa forma podemos, por exemplo, linearizar um tensor n-dimensional."
      ],
      "metadata": {
        "id": "WtQT4YKudnWt"
      }
    },
    {
      "cell_type": "code",
      "source": [
        "tns = torch.randn(2,2,3)\n",
        "print(tns)\n",
        "print('')\n",
        "\n",
        "# tamanho do meu tensor \n",
        "print(tns.size()) # quase mesma coisa q o shape, faz ver quantas linhas tem e quantas coluna \n",
        "tns = tns.view(12) # muda o jeito do tensor\n",
        "print(tns)"
      ],
      "metadata": {
        "colab": {
          "base_uri": "https://localhost:8080/"
        },
        "id": "dmPll7BmciFh",
        "outputId": "c8fc3b0d-19c2-411b-cf3b-c3cd40be3d60"
      },
      "execution_count": 35,
      "outputs": [
        {
          "output_type": "stream",
          "name": "stdout",
          "text": [
            "tensor([[[ 2.9690,  1.8335, -0.1075],\n",
            "         [-1.4542, -1.1373,  0.0560]],\n",
            "\n",
            "        [[-1.1610,  0.0674,  0.3307],\n",
            "         [ 1.0540,  1.1969, -0.5799]]])\n",
            "\n",
            "torch.Size([2, 2, 3])\n",
            "tensor([ 2.9690,  1.8335, -0.1075, -1.4542, -1.1373,  0.0560, -1.1610,  0.0674,\n",
            "         0.3307,  1.0540,  1.1969, -0.5799])\n"
          ]
        }
      ]
    },
    {
      "cell_type": "code",
      "source": [
        "# Outro Exemplo\n",
        "tns = torch.randn(2,2,3)\n",
        "print(tns)\n",
        "print('')\n",
        "\n",
        "# tamanho do meu tensor \n",
        "print(tns.size()) # quase mesma coisa q o shape, faz ver quantas linhas tem e quantas coluna \n",
        "tns = tns.view(4, 3) # muda o jeito do tensor\n",
        "print(tns)"
      ],
      "metadata": {
        "colab": {
          "base_uri": "https://localhost:8080/"
        },
        "id": "mQlghBpZgw5w",
        "outputId": "35477eb8-842e-493b-d0bf-95321f697e48"
      },
      "execution_count": 36,
      "outputs": [
        {
          "output_type": "stream",
          "name": "stdout",
          "text": [
            "tensor([[[-1.5407, -1.4268,  1.4587],\n",
            "         [-2.7717,  0.8312, -0.5598]],\n",
            "\n",
            "        [[-0.3859, -1.9490,  0.8924],\n",
            "         [ 0.0032, -0.7351,  0.0040]]])\n",
            "\n",
            "torch.Size([2, 2, 3])\n",
            "tensor([[-1.5407, -1.4268,  1.4587],\n",
            "        [-2.7717,  0.8312, -0.5598],\n",
            "        [-0.3859, -1.9490,  0.8924],\n",
            "        [ 0.0032, -0.7351,  0.0040]])\n"
          ]
        }
      ]
    },
    {
      "cell_type": "markdown",
      "source": [
        "# GPU Cast\n",
        "Para que o seu script dê suporte a infraestruturas com e sem GPU, é importante definir o dispositivo no início do seu código de acordo com a verificação apresentada a seguir. Essa definição de dispositivo será utilizada toda vez que precisarmos subir valores na GPU, como os pesos da rede, os gradientes, etc."
      ],
      "metadata": {
        "id": "v0h5YohEdsIa"
      }
    },
    {
      "cell_type": "code",
      "source": [
        "import torch\n",
        "\n",
        "tns = torch.randn(10) # criou um tensor com numeros aleatorios\n",
        "\n",
        "if torch.cuda.is_available():\n",
        "  device = torch.device('cuda')\n",
        "else:\n",
        "    device = torch.device('cpu')\n",
        "print('cuda é GPU: pra criar modelos maiores de redes neurais é extremamente importante esta na GPU e  pra resolver problema do mundo real tbm. {}'.format(device))\n",
        "\n",
        "tns = tns.to(device)\n",
        "print(tns)\n"
      ],
      "metadata": {
        "colab": {
          "base_uri": "https://localhost:8080/"
        },
        "id": "Lb64f6gIch75",
        "outputId": "db40f236-fe18-4a0f-cb6f-734fe3f68152"
      },
      "execution_count": 46,
      "outputs": [
        {
          "output_type": "stream",
          "name": "stdout",
          "text": [
            "cuda é GPU: pra criar modelos maiores de redes neurais é extremamente importante esta na GPU e  pra resolver problema do mundo real tbm. cuda\n",
            "tensor([ 0.3739,  0.2028, -0.8977,  0.7115, -1.1410, -0.4834, -0.4905,  1.7877,\n",
            "         0.7097, -1.3533], device='cuda:0')\n"
          ]
        }
      ]
    }
  ]
}