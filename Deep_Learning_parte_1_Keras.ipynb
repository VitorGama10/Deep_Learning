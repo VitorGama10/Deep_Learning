{
  "nbformat": 4,
  "nbformat_minor": 0,
  "metadata": {
    "colab": {
      "provenance": [],
      "collapsed_sections": [],
      "authorship_tag": "ABX9TyNKrDhO6uGYdg6xqYyDIaA9",
      "include_colab_link": true
    },
    "kernelspec": {
      "name": "python3",
      "display_name": "Python 3"
    },
    "language_info": {
      "name": "python"
    }
  },
  "cells": [
    {
      "cell_type": "markdown",
      "metadata": {
        "id": "view-in-github",
        "colab_type": "text"
      },
      "source": [
        "<a href=\"https://colab.research.google.com/github/VitorGama10/Deep_Learning/blob/main/Deep_Learning_parte_1_Keras.ipynb\" target=\"_parent\"><img src=\"https://colab.research.google.com/assets/colab-badge.svg\" alt=\"Open In Colab\"/></a>"
      ]
    },
    {
      "cell_type": "markdown",
      "source": [
        "# LOJA DE ROUPA "
      ],
      "metadata": {
        "id": "9OpdZO6397bH"
      }
    },
    {
      "cell_type": "markdown",
      "source": [
        "# Importando dados"
      ],
      "metadata": {
        "id": "vBoDXtMd931D"
      }
    },
    {
      "cell_type": "code",
      "execution_count": 114,
      "metadata": {
        "id": "thgK-5CCxWWR"
      },
      "outputs": [],
      "source": [
        "from tensorflow import keras\n",
        "import tensorflow\n",
        "\n",
        "keras.datasets.fashion_mnist\n",
        "dataset = keras.datasets.fashion_mnist\n",
        "((treino_x, treino_y), (teste_x, teste_y)) = dataset.load_data()"
      ]
    },
    {
      "cell_type": "code",
      "source": [
        "len(treino_y)"
      ],
      "metadata": {
        "colab": {
          "base_uri": "https://localhost:8080/"
        },
        "id": "1gV4uPSmykyx",
        "outputId": "6e037097-28fc-465c-fd3a-8ca6e16e2367"
      },
      "execution_count": 115,
      "outputs": [
        {
          "output_type": "execute_result",
          "data": {
            "text/plain": [
              "60000"
            ]
          },
          "metadata": {},
          "execution_count": 115
        }
      ]
    },
    {
      "cell_type": "markdown",
      "source": [
        "### Explorar os dados"
      ],
      "metadata": {
        "id": "-IC-hz_RDntJ"
      }
    },
    {
      "cell_type": "code",
      "source": [
        "len(treino_x) # 60.000mil imagens de roupas"
      ],
      "metadata": {
        "colab": {
          "base_uri": "https://localhost:8080/"
        },
        "id": "HjE7r3Oa9058",
        "outputId": "a80b1903-dc1f-4638-e93e-af846a26e716"
      },
      "execution_count": 116,
      "outputs": [
        {
          "output_type": "execute_result",
          "data": {
            "text/plain": [
              "60000"
            ]
          },
          "metadata": {},
          "execution_count": 116
        }
      ]
    },
    {
      "cell_type": "code",
      "source": [
        "len(teste_y) #imagem de teste"
      ],
      "metadata": {
        "colab": {
          "base_uri": "https://localhost:8080/"
        },
        "id": "MhgdWL4x-Hae",
        "outputId": "4c1a8b12-31e1-4f56-fdc4-67a2d5f6c649"
      },
      "execution_count": 117,
      "outputs": [
        {
          "output_type": "execute_result",
          "data": {
            "text/plain": [
              "10000"
            ]
          },
          "metadata": {},
          "execution_count": 117
        }
      ]
    },
    {
      "cell_type": "code",
      "source": [
        "treino_x.shape #60000 linhas, 28 por 28 pixels"
      ],
      "metadata": {
        "colab": {
          "base_uri": "https://localhost:8080/"
        },
        "id": "Kn3Qt1cA_Sic",
        "outputId": "e47b387e-af3c-407d-decd-b454e9264d78"
      },
      "execution_count": 118,
      "outputs": [
        {
          "output_type": "execute_result",
          "data": {
            "text/plain": [
              "(60000, 28, 28)"
            ]
          },
          "metadata": {},
          "execution_count": 118
        }
      ]
    },
    {
      "cell_type": "markdown",
      "source": [
        "## Observa as imagens "
      ],
      "metadata": {
        "id": "gxW5qVi1_es_"
      }
    },
    {
      "cell_type": "code",
      "source": [
        "import matplotlib.pyplot as plt\n",
        "\n",
        "# Importando imagem\n",
        "# plt.imshow(treino_x[0]) # Pra ver a imagens\n",
        "# plt.title(teste_x[0]) \n",
        "\n",
        "teste_x.min() # 0\n",
        "teste_x.max() # o max é 9 \n",
        "\n",
        "# Total de roupas \n",
        "totaL_de_classificação = 10\n",
        "\n",
        "# Nomes dos objetos\n",
        "nomes_de_classificadores = ['Camiseta', 'Calça', 'Pullover', 'Vestido',\n",
        "                            'Casaco', 'Sandalia', 'Camisa', 'Tenis', 'Bolsa', 'Bota']\n",
        "\n",
        "# Importando imagem\n",
        "# plt.imshow(treino_x[0]) # Pra ver a imagens\n",
        "# plt.title(teste_x[0]) \n",
        "\n",
        "'''                            \n",
        "for imagem in range(10): # mostra as 10 imagens\n",
        "  plt.subplot(2, 5, imagem+1)\n",
        "  plt.imshow(treino_x[imagem])\n",
        "  plt.title(nomes_de_classificadores[treino_y[imagem]])\n",
        "'''\n",
        "plt.imshow(treino_x[0])\n",
        "plt.colorbar()"
      ],
      "metadata": {
        "colab": {
          "base_uri": "https://localhost:8080/",
          "height": 282
        },
        "id": "oxWsCPVi_Vxv",
        "outputId": "ff46a945-10e2-43d6-bae2-694179d425f6"
      },
      "execution_count": 119,
      "outputs": [
        {
          "output_type": "execute_result",
          "data": {
            "text/plain": [
              "<matplotlib.colorbar.Colorbar at 0x7f451d4efed0>"
            ]
          },
          "metadata": {},
          "execution_count": 119
        },
        {
          "output_type": "display_data",
          "data": {
            "text/plain": [
              "<Figure size 432x288 with 2 Axes>"
            ],
            "image/png": "[encoded data removed]"
          },
          "metadata": {}
        }
      ]
    },
    {
      "cell_type": "markdown",
      "source": [
        "Criando, compilando, normalizando as imagens e treinando o modelo\n",
        "\n",
        "usamos 3 camadas "
      ],
      "metadata": {
        "id": "3e-4KUx7_zST"
      }
    },
    {
      "cell_type": "code",
      "source": [
        "# Normalização deixa entre 0 e 1, ajuda um pouco no resultado\n",
        "treino_x = treino_x / 255.0\n",
        "\n",
        "\n",
        "# nosso modelo vai acontecer numa sequencia por isso usamos o Sequential\n",
        "modelo = keras.Sequential([\n",
        "    # entrada          # Ajatar numa dimensao só\n",
        "    keras.layers.Flatten(input_shape=(28, 28)),# 28 por 28 pixels\n",
        "\n",
        "    # Processamento \n",
        "    # Dense 256 bolinhas uma entendendo com a outra \n",
        "    keras.layers.Dense(256, activation = tensorflow.nn.relu), # relu para solucoes nao lineares\n",
        "    \n",
        "    # é um tipo de normalização tambem\n",
        "    keras.layers.Dropout(0.3), # Ajuda quando o treino esta muito treinado, ele adormece 10% e ajuda no resultado \n",
        "     \n",
        "     #saida            10 imagens \n",
        "    keras.layers.Dense(10, activation = tensorflow.nn.softmax) # softmax, vai fazer uma probabilidade dessas imagens pertecerem a uma categoria\n",
        "])\n",
        "               # Vai deixar o treino melhor   loss é a perda\n",
        "modelo.compile(optimizer='adam', \n",
        "               loss='sparse_categorical_crossentropy', metrics = ['accuracy'])\n",
        "\n",
        "historico = modelo.fit(treino_x, treino_y, epochs = 5, validation_split = 0.1) # vai treinar 5 vezes \n",
        "print('Nosso objetivo é diminuir a perda')"
      ],
      "metadata": {
        "colab": {
          "base_uri": "https://localhost:8080/"
        },
        "id": "YQrzEXvtBCPz",
        "outputId": "c8254109-d713-473f-d68f-ce0766374c56"
      },
      "execution_count": 120,
      "outputs": [
        {
          "output_type": "stream",
          "name": "stdout",
          "text": [
            "Epoch 1/5\n",
            "1688/1688 [==============================] - 8s 5ms/step - loss: 0.5325 - accuracy: 0.8105 - val_loss: 0.3954 - val_accuracy: 0.8537\n",
            "Epoch 2/5\n",
            "1688/1688 [==============================] - 9s 5ms/step - loss: 0.4049 - accuracy: 0.8534 - val_loss: 0.3591 - val_accuracy: 0.8683\n",
            "Epoch 3/5\n",
            "1688/1688 [==============================] - 8s 4ms/step - loss: 0.3721 - accuracy: 0.8643 - val_loss: 0.3502 - val_accuracy: 0.8753\n",
            "Epoch 4/5\n",
            "1688/1688 [==============================] - 8s 5ms/step - loss: 0.3545 - accuracy: 0.8712 - val_loss: 0.3441 - val_accuracy: 0.8765\n",
            "Epoch 5/5\n",
            "1688/1688 [==============================] - 7s 4ms/step - loss: 0.3398 - accuracy: 0.8745 - val_loss: 0.3394 - val_accuracy: 0.8775\n",
            "Nosso objetivo é diminuir a perda\n"
          ]
        }
      ]
    },
    {
      "cell_type": "markdown",
      "source": [
        "# Salvando o modelo"
      ],
      "metadata": {
        "id": "APwaAU0q-RoU"
      }
    },
    {
      "cell_type": "code",
      "source": [
        "from tensorflow.keras.models import load_model\n",
        "\n",
        "modelo.save('modelo.h5')\n",
        "modelo_salvo = load_model('modelo.h5')"
      ],
      "metadata": {
        "id": "ufgpRWvU9ZTN"
      },
      "execution_count": 126,
      "outputs": []
    },
    {
      "cell_type": "markdown",
      "source": [
        "# Ver se o modelo esta indo bem \n",
        "\n",
        "acuracia \n",
        "\n",
        "validação"
      ],
      "metadata": {
        "id": "moSQaPB2F-mt"
      }
    },
    {
      "cell_type": "code",
      "source": [
        "import matplotlib.pyplot as plt\n",
        "%matplotlib inline\n",
        "import seaborn as sns\n",
        "sns.set_style('darkgrid')\n",
        "sns.set_palette('Accent_r')\n",
        "\n",
        "plt.plot(historico.history['accuracy'])\n",
        "plt.plot(historico.history['val_accuracy'])\n",
        "         \n",
        "plt.title('Acuracia por épocas')\n",
        "plt.xlabel('epochs')\n",
        "plt.ylabel('Acuracia')\n",
        "plt.legend(['treino', 'validação'])\n",
        "\n",
        "plt = plt"
      ],
      "metadata": {
        "colab": {
          "base_uri": "https://localhost:8080/",
          "height": 295
        },
        "id": "nEtv8GzlGBE5",
        "outputId": "191dcdab-7f0d-4e70-9d74-718198f173ac"
      },
      "execution_count": 122,
      "outputs": [
        {
          "output_type": "display_data",
          "data": {
            "text/plain": [
              "<Figure size 432x288 with 1 Axes>"
            ],
            "image/png": "[encoded data removed]"
          },
          "metadata": {}
        }
      ]
    },
    {
      "cell_type": "markdown",
      "source": [
        "## Ver a perda"
      ],
      "metadata": {
        "id": "60m-RU6xHk97"
      }
    },
    {
      "cell_type": "code",
      "source": [
        "plt.plot(historico.history['loss'])\n",
        "plt.plot(historico.history['val_loss'])\n",
        "         \n",
        "plt.title('Perda Por Épocas')\n",
        "plt.xlabel('epochs')\n",
        "plt.ylabel('Perda')\n",
        "plt.legend(['treino', 'validação'])\n",
        "\n",
        "plt = plt"
      ],
      "metadata": {
        "colab": {
          "base_uri": "https://localhost:8080/",
          "height": 297
        },
        "id": "pXbv5Rw4HkU-",
        "outputId": "ae58d471-2b40-4853-8b4c-8700df969c6f"
      },
      "execution_count": 123,
      "outputs": [
        {
          "output_type": "display_data",
          "data": {
            "text/plain": [
              "<Figure size 432x288 with 1 Axes>"
            ],
            "image/png": "[encoded data removed]"
          },
          "metadata": {}
        }
      ]
    },
    {
      "cell_type": "markdown",
      "source": [
        "# Testando o modelo\n",
        "\n",
        "como ta se adaptando a dados novos \n",
        "\n",
        "predict()\n",
        "\n",
        "vamos ver se ta prevendo bem "
      ],
      "metadata": {
        "id": "XBh1EAoyA00-"
      }
    },
    {
      "cell_type": "code",
      "source": [
        "import numpy as np\n",
        "testes = modelo.predict(teste_x)\n",
        "print('Resultado teste:', np.argmax(testes[0])) # podemos colocar 1 e ver se vai prever bem caso n de certo podemos ver q nossos dados n esta bem treinado\n",
        "print('numero da imagem de teste:', teste_y[0])\n",
        "# np.argmax --> mostra o maior argumento, maior numero \n",
        "\n",
        "testes_modelo_salvo = modelo_salvo.predict(teste_x)\n",
        "print('resultado teste modelo salvo:', np.argmax(testes[2]))\n",
        "print('numero da imagem de teste:', teste_y[2])\n",
        "\n",
        "# Fizemos muita coisa, agora nosso modelo esta prevendo muito bem"
      ],
      "metadata": {
        "id": "zXZlI8M50E8q",
        "colab": {
          "base_uri": "https://localhost:8080/"
        },
        "outputId": "3268ac46-8a5a-4dd6-83d6-61fd97594559"
      },
      "execution_count": 129,
      "outputs": [
        {
          "output_type": "stream",
          "name": "stdout",
          "text": [
            "313/313 [==============================] - 2s 5ms/step\n",
            "Resultado teste: 9\n",
            "numero da imagem de teste: 9\n",
            "313/313 [==============================] - 1s 3ms/step\n",
            "resultado teste modelo salvo: 1\n",
            "numero da imagem de teste: 1\n"
          ]
        }
      ]
    },
    {
      "cell_type": "markdown",
      "source": [
        "# Avaliando meu modelo \n",
        "\n",
        "saber quantas vezes ele errou e acertou ?\n",
        "quantos ele perdeu ?"
      ],
      "metadata": {
        "id": "KqheosXjC_9k"
      }
    },
    {
      "cell_type": "code",
      "source": [
        "perda_teste, acuracia_teste = modelo.evaluate(teste_x, teste_y)\n",
        "print('Perda do Teste {0:.2f}'.format(perda_teste))\n",
        "print('acuracia do teste {0:.2f}'.format(acuracia_teste))"
      ],
      "metadata": {
        "colab": {
          "base_uri": "https://localhost:8080/"
        },
        "id": "GP6JN0CdCbqc",
        "outputId": "193b8fae-8251-4e8d-c6fc-3e26d09463f7"
      },
      "execution_count": 125,
      "outputs": [
        {
          "output_type": "stream",
          "name": "stdout",
          "text": [
            "313/313 [==============================] - 1s 3ms/step - loss: 53.8610 - accuracy: 0.8592\n",
            "Perda do Teste 53.86\n",
            "acuracia do teste 0.86\n"
          ]
        }
      ]
    }
  ]
}