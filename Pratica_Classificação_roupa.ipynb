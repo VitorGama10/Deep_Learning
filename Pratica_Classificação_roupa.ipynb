{
  "nbformat": 4,
  "nbformat_minor": 0,
  "metadata": {
    "colab": {
      "name": "Pratica_Classificação_roupa",
      "provenance": [],
      "collapsed_sections": [],
      "authorship_tag": "ABX9TyNhn8kPrOqTmET2I+ztk+KO",
      "include_colab_link": true
    },
    "kernelspec": {
      "name": "python3",
      "display_name": "Python 3"
    },
    "language_info": {
      "name": "python"
    }
  },
  "cells": [
    {
      "cell_type": "markdown",
      "metadata": {
        "id": "view-in-github",
        "colab_type": "text"
      },
      "source": [
        "<a href=\"https://colab.research.google.com/github/VitorGama10/Deep_Learning/blob/main/Pratica_Classifica%C3%A7%C3%A3o_roupa.ipynb\" target=\"_parent\"><img src=\"https://colab.research.google.com/assets/colab-badge.svg\" alt=\"Open In Colab\"/></a>"
      ]
    },
    {
      "cell_type": "markdown",
      "source": [
        "# Importando os dados"
      ],
      "metadata": {
        "id": "4dctCdpzoQHJ"
      }
    },
    {
      "cell_type": "code",
      "execution_count": 139,
      "metadata": {
        "id": "aWDabJ9RI28c"
      },
      "outputs": [],
      "source": [
        "from tensorflow import keras \n",
        "import tensorflow\n",
        "import pandas as pd\n",
        "import numpy as np\n",
        "\n",
        "dataset = keras.datasets.fashion_mnist\n",
        "((treino_x, teste_x), (treino_y, teste_y)) = dataset.load_data()"
      ]
    },
    {
      "cell_type": "code",
      "source": [
        "import matplotlib.pyplot as plt\n",
        "\n",
        "total_de_classificaçoes = 10\n",
        "nomes_de_classificaçoes = ['Camisa', 'Calça', 'Pullover', 'Vestido', 'Casaco', 'Sandalia', 'Camisa', 'Tenis', 'Bolsa', 'Bota']\n",
        "\n",
        "plt.imshow(treino_x[0])\n",
        "plt.colorbar()"
      ],
      "metadata": {
        "colab": {
          "base_uri": "https://localhost:8080/",
          "height": 282
        },
        "id": "VHv-_yedJE1W",
        "outputId": "968a8952-a540-4c49-e892-7cc0e5890e44"
      },
      "execution_count": 140,
      "outputs": [
        {
          "output_type": "execute_result",
          "data": {
            "text/plain": [
              "<matplotlib.colorbar.Colorbar at 0x7f500ecf9b90>"
            ]
          },
          "metadata": {},
          "execution_count": 140
        },
        {
          "output_type": "display_data",
          "data": {
            "text/plain": [
              "<Figure size 432x288 with 2 Axes>"
            ],
            "image/png": "[encoded data removed]"
          },
          "metadata": {
            "needs_background": "light"
          }
        }
      ]
    },
    {
      "cell_type": "markdown",
      "source": [
        "# Selecionando modelos"
      ],
      "metadata": {
        "id": "v-M6f7xdKP4j"
      }
    },
    {
      "cell_type": "code",
      "source": [
        "treino_x.shape"
      ],
      "metadata": {
        "colab": {
          "base_uri": "https://localhost:8080/"
        },
        "id": "LdcFT1CmKiuc",
        "outputId": "04b21bb2-be44-469d-bc9d-3d500b27120a"
      },
      "execution_count": 141,
      "outputs": [
        {
          "output_type": "execute_result",
          "data": {
            "text/plain": [
              "(60000, 28, 28)"
            ]
          },
          "metadata": {},
          "execution_count": 141
        }
      ]
    },
    {
      "cell_type": "code",
      "source": [
        "dados = pd.DataFrame([teste_x])\n",
        "dados"
      ],
      "metadata": {
        "colab": {
          "base_uri": "https://localhost:8080/",
          "height": 110
        },
        "id": "CS_Bra-MLt5C",
        "outputId": "65d6933a-1fb8-48ec-cd59-da16a6a2155e"
      },
      "execution_count": 142,
      "outputs": [
        {
          "output_type": "execute_result",
          "data": {
            "text/plain": [
              "   0      1      2      3      4      5      6      7      8      9      ...  \\\n",
              "0      9      0      0      3      0      2      7      2      5      5  ...   \n",
              "\n",
              "   59990  59991  59992  59993  59994  59995  59996  59997  59998  59999  \n",
              "0      4      1      7      2      8      5      1      3      0      5  \n",
              "\n",
              "[1 rows x 60000 columns]"
            ],
            "text/html": [
              "\n",
              "  <div id=\"df-e1de7eb0-d65d-4536-b8fc-a5dc2a861fc5\">\n",
              "    <div class=\"colab-df-container\">\n",
              "      <div>\n",
              "<style scoped>\n",
              "    .dataframe tbody tr th:only-of-type {\n",
              "        vertical-align: middle;\n",
              "    }\n",
              "\n",
              "    .dataframe tbody tr th {\n",
              "        vertical-align: top;\n",
              "    }\n",
              "\n",
              "    .dataframe thead th {\n",
              "        text-align: right;\n",
              "    }\n",
              "</style>\n",
              "<table border=\"1\" class=\"dataframe\">\n",
              "  <thead>\n",
              "    <tr style=\"text-align: right;\">\n",
              "      <th></th>\n",
              "      <th>0</th>\n",
              "      <th>1</th>\n",
              "      <th>2</th>\n",
              "      <th>3</th>\n",
              "      <th>4</th>\n",
              "      <th>5</th>\n",
              "      <th>6</th>\n",
              "      <th>7</th>\n",
              "      <th>8</th>\n",
              "      <th>9</th>\n",
              "      <th>...</th>\n",
              "      <th>59990</th>\n",
              "      <th>59991</th>\n",
              "      <th>59992</th>\n",
              "      <th>59993</th>\n",
              "      <th>59994</th>\n",
              "      <th>59995</th>\n",
              "      <th>59996</th>\n",
              "      <th>59997</th>\n",
              "      <th>59998</th>\n",
              "      <th>59999</th>\n",
              "    </tr>\n",
              "  </thead>\n",
              "  <tbody>\n",
              "    <tr>\n",
              "      <th>0</th>\n",
              "      <td>9</td>\n",
              "      <td>0</td>\n",
              "      <td>0</td>\n",
              "      <td>3</td>\n",
              "      <td>0</td>\n",
              "      <td>2</td>\n",
              "      <td>7</td>\n",
              "      <td>2</td>\n",
              "      <td>5</td>\n",
              "      <td>5</td>\n",
              "      <td>...</td>\n",
              "      <td>4</td>\n",
              "      <td>1</td>\n",
              "      <td>7</td>\n",
              "      <td>2</td>\n",
              "      <td>8</td>\n",
              "      <td>5</td>\n",
              "      <td>1</td>\n",
              "      <td>3</td>\n",
              "      <td>0</td>\n",
              "      <td>5</td>\n",
              "    </tr>\n",
              "  </tbody>\n",
              "</table>\n",
              "<p>1 rows × 60000 columns</p>\n",
              "</div>\n",
              "      <button class=\"colab-df-convert\" onclick=\"convertToInteractive('df-e1de7eb0-d65d-4536-b8fc-a5dc2a861fc5')\"\n",
              "              title=\"Convert this dataframe to an interactive table.\"\n",
              "              style=\"display:none;\">\n",
              "        \n",
              "  <svg xmlns=\"http://www.w3.org/2000/svg\" height=\"24px\"viewBox=\"0 0 24 24\"\n",
              "       width=\"24px\">\n",
              "    <path d=\"M0 0h24v24H0V0z\" fill=\"none\"/>\n",
              "    <path d=\"M18.56 5.44l.94 2.06.94-2.06 2.06-.94-2.06-.94-.94-2.06-.94 2.06-2.06.94zm-11 1L8.5 8.5l.94-2.06 2.06-.94-2.06-.94L8.5 2.5l-.94 2.06-2.06.94zm10 10l.94 2.06.94-2.06 2.06-.94-2.06-.94-.94-2.06-.94 2.06-2.06.94z\"/><path d=\"M17.41 7.96l-1.37-1.37c-.4-.4-.92-.59-1.43-.59-.52 0-1.04.2-1.43.59L10.3 9.45l-7.72 7.72c-.78.78-.78 2.05 0 2.83L4 21.41c.39.39.9.59 1.41.59.51 0 1.02-.2 1.41-.59l7.78-7.78 2.81-2.81c.8-.78.8-2.07 0-2.86zM5.41 20L4 18.59l7.72-7.72 1.47 1.35L5.41 20z\"/>\n",
              "  </svg>\n",
              "      </button>\n",
              "      \n",
              "  <style>\n",
              "    .colab-df-container {\n",
              "      display:flex;\n",
              "      flex-wrap:wrap;\n",
              "      gap: 12px;\n",
              "    }\n",
              "\n",
              "    .colab-df-convert {\n",
              "      background-color: #E8F0FE;\n",
              "      border: none;\n",
              "      border-radius: 50%;\n",
              "      cursor: pointer;\n",
              "      display: none;\n",
              "      fill: #1967D2;\n",
              "      height: 32px;\n",
              "      padding: 0 0 0 0;\n",
              "      width: 32px;\n",
              "    }\n",
              "\n",
              "    .colab-df-convert:hover {\n",
              "      background-color: #E2EBFA;\n",
              "      box-shadow: 0px 1px 2px rgba(60, 64, 67, 0.3), 0px 1px 3px 1px rgba(60, 64, 67, 0.15);\n",
              "      fill: #174EA6;\n",
              "    }\n",
              "\n",
              "    [theme=dark] .colab-df-convert {\n",
              "      background-color: #3B4455;\n",
              "      fill: #D2E3FC;\n",
              "    }\n",
              "\n",
              "    [theme=dark] .colab-df-convert:hover {\n",
              "      background-color: #434B5C;\n",
              "      box-shadow: 0px 1px 3px 1px rgba(0, 0, 0, 0.15);\n",
              "      filter: drop-shadow(0px 1px 2px rgba(0, 0, 0, 0.3));\n",
              "      fill: #FFFFFF;\n",
              "    }\n",
              "  </style>\n",
              "\n",
              "      <script>\n",
              "        const buttonEl =\n",
              "          document.querySelector('#df-e1de7eb0-d65d-4536-b8fc-a5dc2a861fc5 button.colab-df-convert');\n",
              "        buttonEl.style.display =\n",
              "          google.colab.kernel.accessAllowed ? 'block' : 'none';\n",
              "\n",
              "        async function convertToInteractive(key) {\n",
              "          const element = document.querySelector('#df-e1de7eb0-d65d-4536-b8fc-a5dc2a861fc5');\n",
              "          const dataTable =\n",
              "            await google.colab.kernel.invokeFunction('convertToInteractive',\n",
              "                                                     [key], {});\n",
              "          if (!dataTable) return;\n",
              "\n",
              "          const docLinkHtml = 'Like what you see? Visit the ' +\n",
              "            '<a target=\"_blank\" href=https://colab.research.google.com/notebooks/data_table.ipynb>data table notebook</a>'\n",
              "            + ' to learn more about interactive tables.';\n",
              "          element.innerHTML = '';\n",
              "          dataTable['output_type'] = 'display_data';\n",
              "          await google.colab.output.renderOutput(dataTable, element);\n",
              "          const docLink = document.createElement('div');\n",
              "          docLink.innerHTML = docLinkHtml;\n",
              "          element.appendChild(docLink);\n",
              "        }\n",
              "      </script>\n",
              "    </div>\n",
              "  </div>\n",
              "  "
            ]
          },
          "metadata": {},
          "execution_count": 142
        }
      ]
    },
    {
      "cell_type": "markdown",
      "source": [
        "# Criando, compilando, treinando e normalizando o modelo"
      ],
      "metadata": {
        "id": "rEiF_GLAnvdy"
      }
    },
    {
      "cell_type": "code",
      "source": [
        "# normalização do modelo\n",
        "treino_x = treino_x/255.0 # ajudou muito no resultado\n",
        "\n",
        "\n",
        "modelo = keras.Sequential([\n",
        "# ENTRADA\n",
        "         # em uma dimensão só\n",
        "keras.layers.Flatten(input_shape=(28,28)),\n",
        "\n",
        "#Processamento\n",
        "keras.layers.Dense(256, activation = tensorflow.nn.relu),  # relu transforma todos numeros negativos em 0, olha nos valores positivos\n",
        "keras.layers.Dense(130, activation = tensorflow.nn.relu),  # relu transforma todos numeros negativos em 0, olha nos valores positivos\n",
        "# keras.layers.Dropout(0.2),   # adormece 20% de alguns elementos\n",
        "\n",
        "#saida \n",
        "keras.layers.Dense(10, activation = tensorflow.nn.softmax) # fica entre 0 e 1\n",
        "                 #10 imagens \n",
        "])\n",
        "\n",
        "#compilado      #deixa o treino melhor\n",
        "modelo.compile(optimizer='adam', loss = 'sparse_categorical_crossentropy', metrics = ['accuracy'])\n",
        "                                 # loss é a perda\n",
        "\n",
        "historico = modelo.fit(treino_x, teste_x, epochs = 8, validation_split = 0.2) #20% para a validação \n",
        "                              # tempo para treina o modelo "
      ],
      "metadata": {
        "colab": {
          "base_uri": "https://localhost:8080/"
        },
        "id": "rS3iljcGJOFL",
        "outputId": "202907f5-8921-4d7d-e16c-879223b598b8"
      },
      "execution_count": 143,
      "outputs": [
        {
          "output_type": "stream",
          "name": "stdout",
          "text": [
            "Epoch 1/8\n",
            "1500/1500 [==============================] - 9s 6ms/step - loss: 0.4940 - accuracy: 0.8231 - val_loss: 0.3984 - val_accuracy: 0.8568\n",
            "Epoch 2/8\n",
            "1500/1500 [==============================] - 8s 5ms/step - loss: 0.3693 - accuracy: 0.8639 - val_loss: 0.3895 - val_accuracy: 0.8601\n",
            "Epoch 3/8\n",
            "1500/1500 [==============================] - 8s 5ms/step - loss: 0.3308 - accuracy: 0.8791 - val_loss: 0.3366 - val_accuracy: 0.8789\n",
            "Epoch 4/8\n",
            "1500/1500 [==============================] - 8s 5ms/step - loss: 0.3097 - accuracy: 0.8851 - val_loss: 0.3447 - val_accuracy: 0.8752\n",
            "Epoch 5/8\n",
            "1500/1500 [==============================] - 8s 5ms/step - loss: 0.2890 - accuracy: 0.8913 - val_loss: 0.3329 - val_accuracy: 0.8798\n",
            "Epoch 6/8\n",
            "1500/1500 [==============================] - 8s 5ms/step - loss: 0.2721 - accuracy: 0.8978 - val_loss: 0.3132 - val_accuracy: 0.8875\n",
            "Epoch 7/8\n",
            "1500/1500 [==============================] - 8s 5ms/step - loss: 0.2613 - accuracy: 0.9018 - val_loss: 0.3057 - val_accuracy: 0.8907\n",
            "Epoch 8/8\n",
            "1500/1500 [==============================] - 8s 5ms/step - loss: 0.2480 - accuracy: 0.9059 - val_loss: 0.3372 - val_accuracy: 0.8813\n"
          ]
        }
      ]
    },
    {
      "cell_type": "markdown",
      "source": [
        "# Salvando o modelo"
      ],
      "metadata": {
        "id": "1c8WB_Anlwjj"
      }
    },
    {
      "cell_type": "code",
      "source": [
        "from tensorflow.keras.models import load_model\n",
        "modelo.save('modelo.h5')\n",
        "modelo_salvo = load_model('modelo.h5')"
      ],
      "metadata": {
        "id": "JgXFu5BIlv_D"
      },
      "execution_count": 144,
      "outputs": []
    },
    {
      "cell_type": "code",
      "source": [
        "historico.history"
      ],
      "metadata": {
        "colab": {
          "base_uri": "https://localhost:8080/"
        },
        "id": "FaI1_gh1fG_o",
        "outputId": "ac778322-1329-4fe5-c286-4b2f57583b84"
      },
      "execution_count": 145,
      "outputs": [
        {
          "output_type": "execute_result",
          "data": {
            "text/plain": [
              "{'accuracy': [0.8231458067893982,\n",
              "  0.8638749718666077,\n",
              "  0.8790833353996277,\n",
              "  0.8850833177566528,\n",
              "  0.8912916779518127,\n",
              "  0.8977708220481873,\n",
              "  0.901770830154419,\n",
              "  0.905875027179718],\n",
              " 'loss': [0.4940228760242462,\n",
              "  0.36934855580329895,\n",
              "  0.3308245539665222,\n",
              "  0.30970343947410583,\n",
              "  0.2889997363090515,\n",
              "  0.27211642265319824,\n",
              "  0.26125070452690125,\n",
              "  0.24803511798381805],\n",
              " 'val_accuracy': [0.8568333387374878,\n",
              "  0.8600833415985107,\n",
              "  0.8789166808128357,\n",
              "  0.875166654586792,\n",
              "  0.8798333406448364,\n",
              "  0.887499988079071,\n",
              "  0.890666663646698,\n",
              "  0.8813333511352539],\n",
              " 'val_loss': [0.3983715772628784,\n",
              "  0.389493852853775,\n",
              "  0.33661791682243347,\n",
              "  0.34474077820777893,\n",
              "  0.33285608887672424,\n",
              "  0.31323128938674927,\n",
              "  0.3056877553462982,\n",
              "  0.33724620938301086]}"
            ]
          },
          "metadata": {},
          "execution_count": 145
        }
      ]
    },
    {
      "cell_type": "markdown",
      "source": [
        "# Visualizando as acurácias de treino e validação por época"
      ],
      "metadata": {
        "id": "HrcHORzRjfvw"
      }
    },
    {
      "cell_type": "code",
      "source": [
        "plt.plot(historico.history['accuracy'])\n",
        "plt.plot(historico.history['val_accuracy']) # tem que ser maior que o treino\n",
        "\n",
        "plt.legend(['treino', 'validação'])"
      ],
      "metadata": {
        "colab": {
          "base_uri": "https://localhost:8080/",
          "height": 282
        },
        "id": "N_llww_NgHbv",
        "outputId": "4d0ef4ae-e3b4-44a1-df28-dcaa6ada612e"
      },
      "execution_count": 146,
      "outputs": [
        {
          "output_type": "execute_result",
          "data": {
            "text/plain": [
              "<matplotlib.legend.Legend at 0x7f500b50add0>"
            ]
          },
          "metadata": {},
          "execution_count": 146
        },
        {
          "output_type": "display_data",
          "data": {
            "text/plain": [
              "<Figure size 432x288 with 1 Axes>"
            ],
            "image/png": "[encoded data removed]"
          },
          "metadata": {
            "needs_background": "light"
          }
        }
      ]
    },
    {
      "cell_type": "markdown",
      "source": [
        "# Visualizando perda de teste e validadação por epocas"
      ],
      "metadata": {
        "id": "WkXNrytSmrUG"
      }
    },
    {
      "cell_type": "code",
      "source": [
        "plt.plot(historico.history['loss'])\n",
        "plt.plot(historico.history['val_loss']) # tem q ser maior\n",
        "\n",
        "plt.title('Perda por epocas')\n",
        "\n",
        "plt.xlabel('epocas')\n",
        "plt.ylabel('Perda')\n",
        "\n",
        "plt.legend(['Treino', 'validação']) # criou uma legenda "
      ],
      "metadata": {
        "colab": {
          "base_uri": "https://localhost:8080/",
          "height": 312
        },
        "id": "4abywJvTioSS",
        "outputId": "cf1aa6a6-61ef-4d34-8f1b-2bc0e156cdec"
      },
      "execution_count": 147,
      "outputs": [
        {
          "output_type": "execute_result",
          "data": {
            "text/plain": [
              "<matplotlib.legend.Legend at 0x7f500cbeb990>"
            ]
          },
          "metadata": {},
          "execution_count": 147
        },
        {
          "output_type": "display_data",
          "data": {
            "text/plain": [
              "<Figure size 432x288 with 1 Axes>"
            ],
            "image/png": "[encoded data removed]"
          },
          "metadata": {
            "needs_background": "light"
          }
        }
      ]
    },
    {
      "cell_type": "markdown",
      "source": [
        "# Testando o modelo"
      ],
      "metadata": {
        "id": "xysL5PNSnmHc"
      }
    },
    {
      "cell_type": "code",
      "source": [
        "teste = modelo.predict(treino_x)\n",
        "print('resultado teste:', np.argmax(teste[0])) # argmax retorna o índice do maior valor\n",
        "print('resultado teste:', np.argmax(teste_x[0]))"
      ],
      "metadata": {
        "colab": {
          "base_uri": "https://localhost:8080/"
        },
        "id": "IcHjsF4xllmD",
        "outputId": "2e5e5919-d8a1-4a01-9dc5-2aefd600be06"
      },
      "execution_count": 148,
      "outputs": [
        {
          "output_type": "stream",
          "name": "stdout",
          "text": [
            "resultado teste: 9\n",
            "resultado teste: 0\n"
          ]
        }
      ]
    },
    {
      "cell_type": "markdown",
      "source": [
        "# Avaliando o modelo"
      ],
      "metadata": {
        "id": "E1ElohU6kQm1"
      }
    },
    {
      "cell_type": "code",
      "source": [
        "                                #avalia o modelo.\n",
        "perda_teste, acuracia = modelo.evaluate(treino_x, teste_x)\n",
        "print('Perda de teste', perda_teste)\n",
        "print('A acuracia do teste', acuracia)"
      ],
      "metadata": {
        "colab": {
          "base_uri": "https://localhost:8080/"
        },
        "id": "G-9eMRPjjZyq",
        "outputId": "3f9c70eb-1856-4721-d2ba-c3bf4e653726"
      },
      "execution_count": 149,
      "outputs": [
        {
          "output_type": "stream",
          "name": "stdout",
          "text": [
            "1875/1875 [==============================] - 5s 3ms/step - loss: 0.2590 - accuracy: 0.9024\n",
            "Perda de teste 0.2590157389640808\n",
            "A acuracia do teste 0.9023666381835938\n"
          ]
        }
      ]
    }
  ]
}